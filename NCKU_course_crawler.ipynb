{
 "cells": [
  {
   "cell_type": "code",
   "execution_count": 1,
   "id": "0e08af10",
   "metadata": {},
   "outputs": [],
   "source": [
    "import requests\n",
    "import pandas as pd\n",
    "from bs4 import BeautifulSoup\n",
    "from selenium import webdriver\n",
    "from selenium.webdriver.support.ui import Select # dropdown element\n",
    "from selenium.webdriver.support.ui import WebDriverWait\n",
    "from selenium.webdriver.common.by import By\n",
    "from selenium.webdriver.support import expected_conditions as EC\n",
    "from selenium.webdriver.common.action_chains import ActionChains"
   ]
  },
  {
   "cell_type": "markdown",
   "id": "84b01314",
   "metadata": {},
   "source": [
    "[國立成功大學課程資訊及選課系統](https://course.ncku.edu.tw/) 左上 「課程資訊$\\rightarrow$歷年課程查詢」\n",
    "\n",
    "打開新頁面後點選 [歷年課程進階查詢](https://course-query.acad.ncku.edu.tw/index.php?c=qry11215&m=en_query) 複製其網址串，如：https://course-query.acad.ncku.edu.tw/index.php?c=qry11215&m=en_query"
   ]
  },
  {
   "cell_type": "code",
   "execution_count": 2,
   "id": "806bafc4",
   "metadata": {},
   "outputs": [],
   "source": [
    "driver = webdriver.Chrome()\n",
    "\n",
    "# url = \"https://course.ncku.edu.tw\"\n",
    "url = \"https://course-query.acad.ncku.edu.tw/index.php?c=qry11215&m=en_query\"\n",
    "\n",
    "driver.get(url)\n",
    "\n",
    "# 過濾用\n",
    "filter_text = {'碩', '碩博'}\n",
    "\n",
    "# 查詢年份\n",
    "year_start = 112\n",
    "year_end = 112\n",
    "\n",
    "req = requests.get(url)"
   ]
  },
  {
   "cell_type": "code",
   "execution_count": 3,
   "id": "07b26212",
   "metadata": {},
   "outputs": [],
   "source": [
    "# html 中的拉條功能(dropdown) 要使用Select來控制 \n",
    "year_start_selector = Select(driver.find_element_by_xpath('//*[@id=\"sel_syear_b\"]'))\n",
    "year_end_selector = Select(driver.find_element_by_xpath('//*[@id=\"sel_syear_e\"]'))\n",
    "\n",
    "year_start_selector.select_by_value(f'{year_start}')\n",
    "year_end_selector.select_by_value(f'{year_end}')"
   ]
  },
  {
   "cell_type": "code",
   "execution_count": 31,
   "id": "5c042750",
   "metadata": {},
   "outputs": [],
   "source": []
  },
  {
   "cell_type": "code",
   "execution_count": 4,
   "id": "86d17d71",
   "metadata": {},
   "outputs": [],
   "source": [
    "# 要查詢的課程名稱\n",
    "course_name = '資料分析'\n",
    "\n",
    "course_textBox = driver.find_element_by_xpath('//*[@id=\"cosname\"]')\n",
    "course_textBox.send_keys(f'{course_name}')"
   ]
  },
  {
   "cell_type": "code",
   "execution_count": 5,
   "id": "56fd90f7",
   "metadata": {},
   "outputs": [],
   "source": [
    "button = driver.find_element_by_xpath(\"/html/body/div[4]/div/div[2]/button\")\n",
    "button.click()"
   ]
  },
  {
   "cell_type": "markdown",
   "id": "48b34818",
   "metadata": {},
   "source": [
    "在 `button.click()` 執行後，頁面會根據輸入的 `course_name` 、 `year_start` 跟 `year_end` 轉跳頁面。\n",
    "\n",
    "轉跳完頁面後，當前的 url 會跟著改動。要擷取查詢後頁面的結果，需要對目前 url 發出 `get` 的請求。"
   ]
  },
  {
   "cell_type": "code",
   "execution_count": 6,
   "id": "ec22febe",
   "metadata": {
    "scrolled": true
   },
   "outputs": [],
   "source": [
    "\n",
    "current_url = driver.current_url"
   ]
  },
  {
   "cell_type": "code",
   "execution_count": 7,
   "id": "2d45464b",
   "metadata": {},
   "outputs": [],
   "source": [
    "searched_web = requests.get(current_url)"
   ]
  },
  {
   "cell_type": "code",
   "execution_count": 8,
   "id": "a7cd585f",
   "metadata": {},
   "outputs": [],
   "source": [
    "# BeautifulSoup 解析 html \n",
    "soup = BeautifulSoup(searched_web.text, \"html.parser\")"
   ]
  },
  {
   "cell_type": "markdown",
   "id": "9c1a158f",
   "metadata": {},
   "source": [
    "課程內容以 6 個 <tr> 為單位。依序為"
   ]
  },
  {
   "cell_type": "code",
   "execution_count": 46,
   "id": "030f57cf",
   "metadata": {
    "scrolled": false
   },
   "outputs": [
    {
     "name": "stdout",
     "output_type": "stream",
     "text": [
      "<tr class=\"tr-info tr-info-1\"><td colspan=\"2\"><table class=\"table table-bordered\"><tr><td class=\"info\" style=\"width: 100px;\">系所名稱</td><td>生技系 BBS</td></tr><tr><td class=\"info\">年級<br/>班別<br/>組別</td><td>3 <br/> <br/> </td></tr><tr><td class=\"info\">學分<br/>選必修</td><td>2 <br/> 選修</td></tr><tr><td class=\"info\">類別</td><td>講義</td></tr><tr><td class=\"info\">課綱<br/>/Moodle</td><td><i class=\"fas fa-caret-right\"></i> <a href=\"https://class-qry.acad.ncku.edu.tw/syllabus/syllabus.php?syear=0112&amp;sem=1&amp;co_no=C630520&amp;class_code=\" target=\"_blank\">課程大綱</a> <br/> <i class=\"fas fa-caret-right\"></i> <a href=\"javascript:moodle('0112','1','C630520');\">Moodle</a></td></tr><tr><td class=\"info\">教師姓名<br/>*:主負責老師</td><td>未定</td></tr></table><p class=\"text-center\">\n",
      "<button class=\"btn btn-warning btn-hide\" data-index=\"1\" type=\"button\">隱藏課程資訊</button>\n",
      "</p></td></tr>\n"
     ]
    }
   ],
   "source": [
    "\n",
    "table = soup.select_one('#main_content > div.visible-xs > table')\n",
    "\n",
    "tr_nodes = table.find_all('tr')\n",
    "\n",
    "print(tr_nodes[17])\n",
    "\n",
    "# for idx, tr_node in enumerate(tr_nodes[24:36]):\n",
    "# #     span = tr_node.find_all('span')\n",
    "# #     if tr_node.find_all('span'):\n",
    "# #         span[0].extract() # 移除 <span> 標籤\n",
    "    \n",
    "#     content = tr_node.get_text().strip()\n",
    "#     print(content)\n",
    "#     print('\\n')"
   ]
  },
  {
   "cell_type": "code",
   "execution_count": 12,
   "id": "93c9e211",
   "metadata": {},
   "outputs": [
    {
     "data": {
      "text/plain": [
       "'前往電影介紹\\n藍甲蟲\\nBLUE BEETLE\\n上映日期：2023/08/17\\nMOVIE INFO\\n導演：\\n安傑爾曼努爾索托\\n演員：\\n索洛馬里達納、布魯娜馬爾科辛、喬治洛佩茲、蘇珊莎蘭登\\n類型：\\n片長： 2 時 7 分'"
      ]
     },
     "execution_count": 12,
     "metadata": {},
     "output_type": "execute_result"
    }
   ],
   "source": [
    "driver.find_element_by_class_name('movieMain').text"
   ]
  },
  {
   "cell_type": "markdown",
   "id": "8eb97614",
   "metadata": {},
   "source": [
    "# Locate the Element\n",
    "\n",
    "## find_element_by_id\n"
   ]
  },
  {
   "cell_type": "code",
   "execution_count": 5,
   "id": "a6a1d6ef",
   "metadata": {},
   "outputs": [
    {
     "name": "stdout",
     "output_type": "stream",
     "text": [
      "<selenium.webdriver.remote.webelement.WebElement (session=\"16d438b520658cb09d1dea3f9271abcb\", element=\"75921EECDF5A7C9AF4FFA313C62B3478_element_24\")>\n"
     ]
    }
   ],
   "source": [
    "a = driver.find_element_by_xpath(\"/html/body/div[4]/div/div[2]/button\")\n",
    "print(a)"
   ]
  },
  {
   "cell_type": "code",
   "execution_count": 6,
   "id": "a1a42a21",
   "metadata": {},
   "outputs": [
    {
     "name": "stdout",
     "output_type": "stream",
     "text": [
      "None\n"
     ]
    }
   ],
   "source": [
    "print(driver.find_element_by_xpath(\"/html/body/div[4]/div/div[2]/button\").click())"
   ]
  },
  {
   "cell_type": "code",
   "execution_count": 11,
   "id": "2e1986d1",
   "metadata": {},
   "outputs": [],
   "source": [
    "teaname = driver.find_element_by_id(\"teaname\")\n",
    "teaname.send_keys('舒宇宸')\n",
    "\n",
    "button = driver.find_element_by_xpath(\"/html/body/div[4]/div/div[2]/button\").click()"
   ]
  },
  {
   "cell_type": "code",
   "execution_count": 10,
   "id": "25ae5917",
   "metadata": {},
   "outputs": [
    {
     "ename": "NameError",
     "evalue": "name 'expected_conditions' is not defined",
     "output_type": "error",
     "traceback": [
      "\u001b[1;31m---------------------------------------------------------------------------\u001b[0m",
      "\u001b[1;31mNameError\u001b[0m                                 Traceback (most recent call last)",
      "Input \u001b[1;32mIn [10]\u001b[0m, in \u001b[0;36m<cell line: 1>\u001b[1;34m()\u001b[0m\n\u001b[1;32m----> 1\u001b[0m wait \u001b[38;5;241m=\u001b[39m WebDriverWait(driver, \u001b[38;5;241m20\u001b[39m)\u001b[38;5;241m.\u001b[39muntil(\u001b[43mexpected_conditions\u001b[49m\u001b[38;5;241m.\u001b[39melement_to_be_clickable((By\u001b[38;5;241m.\u001b[39mCSS_SELECTOR , \u001b[38;5;124m\"\u001b[39m\u001b[38;5;124mbutton.btn.btn-primary\u001b[39m\u001b[38;5;124m\"\u001b[39m)))\n",
      "\u001b[1;31mNameError\u001b[0m: name 'expected_conditions' is not defined"
     ]
    }
   ],
   "source": [
    "wait = WebDriverWait(driver, 20).until(expected_conditions.element_to_be_clickable((By.CSS_SELECTOR , \"button.btn.btn-primary\")))"
   ]
  }
 ],
 "metadata": {
  "kernelspec": {
   "display_name": "Python 3 (ipykernel)",
   "language": "python",
   "name": "python3"
  },
  "language_info": {
   "codemirror_mode": {
    "name": "ipython",
    "version": 3
   },
   "file_extension": ".py",
   "mimetype": "text/x-python",
   "name": "python",
   "nbconvert_exporter": "python",
   "pygments_lexer": "ipython3",
   "version": "3.9.12"
  }
 },
 "nbformat": 4,
 "nbformat_minor": 5
}
